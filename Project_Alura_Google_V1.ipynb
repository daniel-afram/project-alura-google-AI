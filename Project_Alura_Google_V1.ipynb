{
  "cells": [
    {
      "cell_type": "markdown",
      "metadata": {
        "id": "view-in-github",
        "colab_type": "text"
      },
      "source": [
        "<a href=\"https://colab.research.google.com/github/daniel-afram/project-alura-google-AI/blob/main/Project_Alura_Google_V1.ipynb\" target=\"_parent\"><img src=\"https://colab.research.google.com/assets/colab-badge.svg\" alt=\"Open In Colab\"/></a>"
      ]
    },
    {
      "cell_type": "code",
      "execution_count": 15,
      "metadata": {
        "colab": {
          "base_uri": "https://localhost:8080/",
          "height": 429
        },
        "id": "m3L77oTe-oxw",
        "outputId": "421e16c4-ba40-4159-8de3-e1dd128ea847"
      },
      "outputs": [
        {
          "output_type": "stream",
          "name": "stdout",
          "text": [
            "\u001b[31mERROR: Operation cancelled by user\u001b[0m\u001b[31m\n",
            "\u001b[0mE aí! 😄 Precisa de recomendações de filmes, séries, livros ou jogos? Pode contar comigo!\n"
          ]
        },
        {
          "output_type": "error",
          "ename": "KeyboardInterrupt",
          "evalue": "Interrupted by user",
          "traceback": [
            "\u001b[0;31m---------------------------------------------------------------------------\u001b[0m",
            "\u001b[0;31mKeyboardInterrupt\u001b[0m                         Traceback (most recent call last)",
            "\u001b[0;32m<ipython-input-15-f15079d45c4a>\u001b[0m in \u001b[0;36m<cell line: 98>\u001b[0;34m()\u001b[0m\n\u001b[1;32m     97\u001b[0m \u001b[0;31m# Loop principal do chatbot\u001b[0m\u001b[0;34m\u001b[0m\u001b[0;34m\u001b[0m\u001b[0m\n\u001b[1;32m     98\u001b[0m \u001b[0;32mwhile\u001b[0m \u001b[0;32mTrue\u001b[0m\u001b[0;34m:\u001b[0m\u001b[0;34m\u001b[0m\u001b[0;34m\u001b[0m\u001b[0m\n\u001b[0;32m---> 99\u001b[0;31m   \u001b[0mprompt\u001b[0m \u001b[0;34m=\u001b[0m \u001b[0minput\u001b[0m\u001b[0;34m(\u001b[0m\u001b[0;34m\"O que deseja? (ou 'fim' para sair): \"\u001b[0m\u001b[0;34m)\u001b[0m\u001b[0;34m\u001b[0m\u001b[0;34m\u001b[0m\u001b[0m\n\u001b[0m\u001b[1;32m    100\u001b[0m   \u001b[0;32mif\u001b[0m \u001b[0mprompt\u001b[0m\u001b[0;34m.\u001b[0m\u001b[0mlower\u001b[0m\u001b[0;34m(\u001b[0m\u001b[0;34m)\u001b[0m \u001b[0;34m==\u001b[0m \u001b[0;34m'fim'\u001b[0m\u001b[0;34m:\u001b[0m\u001b[0;34m\u001b[0m\u001b[0;34m\u001b[0m\u001b[0m\n\u001b[1;32m    101\u001b[0m     \u001b[0;32mbreak\u001b[0m\u001b[0;34m\u001b[0m\u001b[0;34m\u001b[0m\u001b[0m\n",
            "\u001b[0;32m/usr/local/lib/python3.10/dist-packages/ipykernel/kernelbase.py\u001b[0m in \u001b[0;36mraw_input\u001b[0;34m(self, prompt)\u001b[0m\n\u001b[1;32m    849\u001b[0m                 \u001b[0;34m\"raw_input was called, but this frontend does not support input requests.\"\u001b[0m\u001b[0;34m\u001b[0m\u001b[0;34m\u001b[0m\u001b[0m\n\u001b[1;32m    850\u001b[0m             )\n\u001b[0;32m--> 851\u001b[0;31m         return self._input_request(str(prompt),\n\u001b[0m\u001b[1;32m    852\u001b[0m             \u001b[0mself\u001b[0m\u001b[0;34m.\u001b[0m\u001b[0m_parent_ident\u001b[0m\u001b[0;34m,\u001b[0m\u001b[0;34m\u001b[0m\u001b[0;34m\u001b[0m\u001b[0m\n\u001b[1;32m    853\u001b[0m             \u001b[0mself\u001b[0m\u001b[0;34m.\u001b[0m\u001b[0m_parent_header\u001b[0m\u001b[0;34m,\u001b[0m\u001b[0;34m\u001b[0m\u001b[0;34m\u001b[0m\u001b[0m\n",
            "\u001b[0;32m/usr/local/lib/python3.10/dist-packages/ipykernel/kernelbase.py\u001b[0m in \u001b[0;36m_input_request\u001b[0;34m(self, prompt, ident, parent, password)\u001b[0m\n\u001b[1;32m    893\u001b[0m             \u001b[0;32mexcept\u001b[0m \u001b[0mKeyboardInterrupt\u001b[0m\u001b[0;34m:\u001b[0m\u001b[0;34m\u001b[0m\u001b[0;34m\u001b[0m\u001b[0m\n\u001b[1;32m    894\u001b[0m                 \u001b[0;31m# re-raise KeyboardInterrupt, to truncate traceback\u001b[0m\u001b[0;34m\u001b[0m\u001b[0;34m\u001b[0m\u001b[0m\n\u001b[0;32m--> 895\u001b[0;31m                 \u001b[0;32mraise\u001b[0m \u001b[0mKeyboardInterrupt\u001b[0m\u001b[0;34m(\u001b[0m\u001b[0;34m\"Interrupted by user\"\u001b[0m\u001b[0;34m)\u001b[0m \u001b[0;32mfrom\u001b[0m \u001b[0;32mNone\u001b[0m\u001b[0;34m\u001b[0m\u001b[0;34m\u001b[0m\u001b[0m\n\u001b[0m\u001b[1;32m    896\u001b[0m             \u001b[0;32mexcept\u001b[0m \u001b[0mException\u001b[0m \u001b[0;32mas\u001b[0m \u001b[0me\u001b[0m\u001b[0;34m:\u001b[0m\u001b[0;34m\u001b[0m\u001b[0;34m\u001b[0m\u001b[0m\n\u001b[1;32m    897\u001b[0m                 \u001b[0mself\u001b[0m\u001b[0;34m.\u001b[0m\u001b[0mlog\u001b[0m\u001b[0;34m.\u001b[0m\u001b[0mwarning\u001b[0m\u001b[0;34m(\u001b[0m\u001b[0;34m\"Invalid Message:\"\u001b[0m\u001b[0;34m,\u001b[0m \u001b[0mexc_info\u001b[0m\u001b[0;34m=\u001b[0m\u001b[0;32mTrue\u001b[0m\u001b[0;34m)\u001b[0m\u001b[0;34m\u001b[0m\u001b[0;34m\u001b[0m\u001b[0m\n",
            "\u001b[0;31mKeyboardInterrupt\u001b[0m: Interrupted by user"
          ]
        }
      ],
      "source": [
        "!pip install -q -U google-generativeai\n",
        "import google.generativeai as genai\n",
        "from google.colab import userdata\n",
        "import random\n",
        "import time\n",
        "\n",
        "api_key = userdata.get('SECRET_KEY')\n",
        "genai.configure(api_key=api_key)\n",
        "\n",
        "# Encontrar um modelo que suporte geração de conteúdo\n",
        "for m in genai.list_models():\n",
        "  if 'generateContent' in m.supported_generation_methods:\n",
        "    m.name\n",
        "\n",
        "# Configurações de geração e segurança\n",
        "generation_config = {\n",
        "    \"candidate_count\": 1,\n",
        "    \"temperature\": 0.8,\n",
        "}\n",
        "\n",
        "safety_settings = {\n",
        "    \"HARASSMENT\": \"BLOCK_NONE\",\n",
        "    \"HATE\": \"BLOCK_NONE\",\n",
        "    \"SEXUAL\": \"BLOCK_NONE\",\n",
        "    \"DANGEROUS\": \"BLOCK_NONE\",\n",
        "}\n",
        "\n",
        "# Inicializando o modelo Gemini\n",
        "model = genai.GenerativeModel(\n",
        "    model_name=\"gemini-1.5-pro-latest\",\n",
        "    generation_config=generation_config,\n",
        "    safety_settings=safety_settings\n",
        ")\n",
        "\n",
        "# Função para gerar saudações variadas\n",
        "def saudacao():\n",
        "  saudacoes = [\n",
        "      \"Olá! 👋 É um prazer te ajudar a encontrar algo legal para assistir, ler ou jogar!\",\n",
        "      \"E aí! 😄 Precisa de recomendações de filmes, séries, livros ou jogos? Pode contar comigo!\",\n",
        "      \"Oi, oi! 😊 Qual mídia você gostaria de explorar hoje?\",\n",
        "  ]\n",
        "  return random.choice(saudacoes)\n",
        "\n",
        "# Prompt inicial de boas-vindas\n",
        "prompt_inicial = f\"{saudacao()}\"\n",
        "\n",
        "print(prompt_inicial)\n",
        "\n",
        "# Histórico da conversa\n",
        "histórico_conversa = [\n",
        "    {\"role\": \"assistant\", \"content\": prompt_inicial}\n",
        "]\n",
        "\n",
        "# Prompt inicial de boas-vindas\n",
        "prompt_base_conhecimento = \"\"\"\n",
        "Gostaria de uma recomendação ou análise de um filme, série, anime, livro ou jogo. Por favor, me diga:\n",
        "Tipo de mídia: (filme, série, anime, livro, jogo)\n",
        "Ação: (recomendação ou análise)\n",
        "Detalhes:\n",
        "Para recomendações: Especifique o gênero, tema ou características desejadas.\n",
        "Para análises: Indique o título da obra.\n",
        "Com base em sua solicitação, o relatório incluirá:\n",
        "Informações principais: Título, gênero, ano de lançamento, autor/diretor, plataformas disponíveis, duração média (para jogos), classificação indicativa.\n",
        "Avaliação:\n",
        "Notas de sites especializados: IMDb, Rotten Tomatoes, Metacritic para filmes, séries, livros e animes. Metacritic, Steam, Playstation Store, Xbox Store, Nintendo eShop para jogos (especificar a plataforma para cada jogo).\n",
        "Notas de usuários (média das avaliações dos usuários).\n",
        "Análise de 10 comentários de usuários, com diferentes perspectivas sobre a obra.\n",
        "Sinopse: Descrição concisa da trama.\n",
        "Análise: Pontos fortes, pontos fracos, temas abordados, impacto cultural, relevância histórica.\n",
        "Elenco principal: Atores, dubladores (para jogos e animes).\n",
        "Ordem cronológica:\n",
        "Mídia principal:\n",
        "Se for parte de uma saga, apresentar a ordem cronológica de todas as obras da saga, incluindo a mídia solicitada.\n",
        "Detalhar cada obra da saga, com título, número de episódios, ano de lançamento, classificação indicativa e breve sinopse.\n",
        "Mídias relacionadas: Mostrar a ordem cronológica de lançamento das outras mídias que expandem o universo da obra (ex: filmes, séries, livros) com título, ano de lançamento, classificação indicativa e breve sinopse.\n",
        "Mídias relacionadas: Filmes, séries, animes ou jogos que expandem o universo da obra.\n",
        "O Relatório deve ter emojis relacionados com todos os títulos dos tópicos mencionados e alguns emojis para os comentários dos usuários.\n",
        "Recomendações: \"Se você gosta desse...você também vai gostar desses:\" 5 sugestões personalizadas de acordo com suas preferências, considerando seus pedidos anteriores.\n",
        "Exemplos:\n",
        "Exemplo 1:\n",
        "Tipo de mídia: Filme\n",
        "Ação: Análise\n",
        "Detalhes: Star Wars Episódio VII: O Despertar da Força\n",
        "Relatório: O relatório deve apresentar a ordem cronológica de TODOS os filmes da saga Star Wars, incluindo Episódio VII, e detalhar cada filme com título, ano, classificação indicativa e sinopse. Também deve apresentar a ordem cronológica e detalhes de outros filmes relacionados, como \"Rogue One\" e \"Solo\", incluindo suas classificações indicativas.\n",
        "Exemplo 2:\n",
        "Tipo de mídia: Jogo\n",
        "Ação: Análise\n",
        "Detalhes: The Witcher 3: Wild Hunt\n",
        "Relatório: O relatório deve apresentar a ordem cronológica dos jogos da série The Witcher (incluindo spin-offs), com detalhes de cada jogo, incluindo a classificação indicativa. A ordem cronológica deve considerar a história do universo, não apenas a data de lançamento dos jogos. Também deve apresentar a ordem cronológica dos livros da saga The Witcher, que originou o universo do jogo, com suas respectivas classificações indicativas.\n",
        "\"\"\"\n",
        "\n",
        "# Histórico da conversa\n",
        "histórico_conversa = [\n",
        "    {\"role\": \"assistant\", \"content\": prompt_base_conhecimento}\n",
        "]\n",
        "\n",
        "# Loop principal do chatbot\n",
        "while True:\n",
        "  prompt = input(\"O que deseja? (ou 'fim' para sair): \")\n",
        "  if prompt.lower() == 'fim':\n",
        "    break\n",
        "\n",
        "  # Adicionando a mensagem do usuário ao histórico\n",
        "  histórico_conversa.append({\"role\": \"user\", \"content\": prompt})\n",
        "\n",
        "  # Construindo o prompt completo com o histórico\n",
        "  prompt_completo = \"\".join(\n",
        "      [f\"{mensagem['role']}: {mensagem['content']}\\n\" for mensagem in histórico_conversa]\n",
        "  )\n",
        "\n",
        "  # Gerando a resposta com o modelo\n",
        "  response = model.generate_content(\n",
        "      prompt_completo + \"assistant:\",\n",
        "      generation_config=generation_config,\n",
        "      safety_settings=safety_settings\n",
        "  )\n",
        "\n",
        "  # Adicionando a resposta do assistente ao histórico\n",
        "  histórico_conversa.append({\"role\": \"assistant\", \"content\": response.text})\n",
        "\n",
        "  print(\"Resposta:\\n\", response.text, \"\\n\")"
      ]
    },
    {
      "cell_type": "code",
      "source": [],
      "metadata": {
        "id": "uggtrKPnYz8p"
      },
      "execution_count": null,
      "outputs": []
    }
  ],
  "metadata": {
    "colab": {
      "provenance": [],
      "toc_visible": true,
      "authorship_tag": "ABX9TyPWTyeHo5aOQWMj+azxDXXt",
      "include_colab_link": true
    },
    "kernelspec": {
      "display_name": "Python 3",
      "name": "python3"
    },
    "language_info": {
      "name": "python"
    }
  },
  "nbformat": 4,
  "nbformat_minor": 0
}